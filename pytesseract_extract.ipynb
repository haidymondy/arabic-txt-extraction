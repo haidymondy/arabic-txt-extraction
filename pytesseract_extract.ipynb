{
  "nbformat": 4,
  "nbformat_minor": 0,
  "metadata": {
    "colab": {
      "provenance": []
    },
    "kernelspec": {
      "name": "python3",
      "display_name": "Python 3"
    },
    "language_info": {
      "name": "python"
    }
  },
  "cells": [
    {
      "cell_type": "code",
      "source": [
        "!pip install pytesseract"
      ],
      "metadata": {
        "colab": {
          "base_uri": "https://localhost:8080/"
        },
        "id": "8RqX-dUGvBnJ",
        "outputId": "8b0ff8fd-3b78-4d49-d509-9adc30a6b181"
      },
      "execution_count": 1,
      "outputs": [
        {
          "output_type": "stream",
          "name": "stdout",
          "text": [
            "Collecting pytesseract\n",
            "  Downloading pytesseract-0.3.10-py3-none-any.whl (14 kB)\n",
            "Requirement already satisfied: packaging>=21.3 in /usr/local/lib/python3.10/dist-packages (from pytesseract) (24.0)\n",
            "Requirement already satisfied: Pillow>=8.0.0 in /usr/local/lib/python3.10/dist-packages (from pytesseract) (9.4.0)\n",
            "Installing collected packages: pytesseract\n",
            "Successfully installed pytesseract-0.3.10\n"
          ]
        }
      ]
    },
    {
      "cell_type": "code",
      "source": [
        "!apt-get install tesseract-ocr-ara"
      ],
      "metadata": {
        "colab": {
          "base_uri": "https://localhost:8080/"
        },
        "id": "9s7ERmmewnxp",
        "outputId": "23d08fd9-b961-40e1-f794-aef197082128"
      },
      "execution_count": 2,
      "outputs": [
        {
          "output_type": "stream",
          "name": "stdout",
          "text": [
            "Reading package lists... Done\n",
            "Building dependency tree... Done\n",
            "Reading state information... Done\n",
            "The following additional packages will be installed:\n",
            "  tesseract-ocr tesseract-ocr-eng tesseract-ocr-osd\n",
            "The following NEW packages will be installed:\n",
            "  tesseract-ocr tesseract-ocr-ara tesseract-ocr-eng tesseract-ocr-osd\n",
            "0 upgraded, 4 newly installed, 0 to remove and 45 not upgraded.\n",
            "Need to get 5,461 kB of archives.\n",
            "After this operation, 17.1 MB of additional disk space will be used.\n",
            "Get:1 http://archive.ubuntu.com/ubuntu jammy/universe amd64 tesseract-ocr-eng all 1:4.00~git30-7274cfa-1.1 [1,591 kB]\n",
            "Get:2 http://archive.ubuntu.com/ubuntu jammy/universe amd64 tesseract-ocr-osd all 1:4.00~git30-7274cfa-1.1 [2,990 kB]\n",
            "Get:3 http://archive.ubuntu.com/ubuntu jammy/universe amd64 tesseract-ocr amd64 4.1.1-2.1build1 [236 kB]\n",
            "Get:4 http://archive.ubuntu.com/ubuntu jammy/universe amd64 tesseract-ocr-ara all 1:4.00~git30-7274cfa-1.1 [645 kB]\n",
            "Fetched 5,461 kB in 2s (3,233 kB/s)\n",
            "Selecting previously unselected package tesseract-ocr-eng.\n",
            "(Reading database ... 121920 files and directories currently installed.)\n",
            "Preparing to unpack .../tesseract-ocr-eng_1%3a4.00~git30-7274cfa-1.1_all.deb ...\n",
            "Unpacking tesseract-ocr-eng (1:4.00~git30-7274cfa-1.1) ...\n",
            "Selecting previously unselected package tesseract-ocr-osd.\n",
            "Preparing to unpack .../tesseract-ocr-osd_1%3a4.00~git30-7274cfa-1.1_all.deb ...\n",
            "Unpacking tesseract-ocr-osd (1:4.00~git30-7274cfa-1.1) ...\n",
            "Selecting previously unselected package tesseract-ocr.\n",
            "Preparing to unpack .../tesseract-ocr_4.1.1-2.1build1_amd64.deb ...\n",
            "Unpacking tesseract-ocr (4.1.1-2.1build1) ...\n",
            "Selecting previously unselected package tesseract-ocr-ara.\n",
            "Preparing to unpack .../tesseract-ocr-ara_1%3a4.00~git30-7274cfa-1.1_all.deb ...\n",
            "Unpacking tesseract-ocr-ara (1:4.00~git30-7274cfa-1.1) ...\n",
            "Setting up tesseract-ocr-eng (1:4.00~git30-7274cfa-1.1) ...\n",
            "Setting up tesseract-ocr-ara (1:4.00~git30-7274cfa-1.1) ...\n",
            "Setting up tesseract-ocr-osd (1:4.00~git30-7274cfa-1.1) ...\n",
            "Setting up tesseract-ocr (4.1.1-2.1build1) ...\n",
            "Processing triggers for man-db (2.10.2-1) ...\n"
          ]
        }
      ]
    },
    {
      "cell_type": "code",
      "source": [
        "import os\n",
        "os.environ['TESSDATA_PREFIX'] = '/usr/share/tesseract-ocr/4.00/tessdata/'"
      ],
      "metadata": {
        "id": "-VEHiVl4wrlF"
      },
      "execution_count": 3,
      "outputs": []
    },
    {
      "cell_type": "code",
      "source": [
        "from PIL import Image\n",
        "from pytesseract import image_to_string\n",
        "\n",
        "image = Image.open('/content/nl.jpg')\n",
        "text = image_to_string(image, lang='ara')\n",
        "\n",
        "print(text)"
      ],
      "metadata": {
        "colab": {
          "base_uri": "https://localhost:8080/"
        },
        "id": "48sRrt5iwyQE",
        "outputId": "f0f82e0a-6189-4d58-b82e-57d79ff50c57"
      },
      "execution_count": 4,
      "outputs": [
        {
          "output_type": "stream",
          "name": "stdout",
          "text": [
            "أثم كان القرار الجريء بغزولأول كوكب مأهول تم كشفه .. و عبر كل الُوارد و الامكانات استولوا عليه و\n",
            "اقلا تقنيته الى حوزتهم| .. و استمر التطور و اتسعت السيطرة حتى بلغت ارجاء الكون .\n",
            "تعرض/فراس للكثير من المواقف و الصراعات مع جاك انتصر في الكثير منها و خسر الكثير و ت\n",
            "إمعه بالكثيزو, كانالتوازن|يفرض نفسه عليهما .. رغم انه عند الخطر المشترك يعملان جنبا الى جنب\n",
            "\n",
            " \n",
            "\n",
            "كان الصراع يعطي الارض) المزيد من التطوز و التكنولوجيا بشكل غيو مسبوق لدرجة ان,الارضياً صطارت.\n",
            "من الكوآكب القوية و صار لها آتحاد عام للشؤؤن الفضانية ..\n",
            "\n",
            " \n",
            "\n",
            "ف احد مغامرات فراس وجذه اتتتخاضِ من كؤكب ( باتريوناء)!و ظنوه ابن اميرهم المفقود .. و كاد فركايسن\n",
            "مع الادلة التي ظهرتَ آنيفقد حيائَهعَلَئ يدا منظفتة إلتتي ظنته.دخيلا .. لكن جاء الكشف المذهل عن شببيه\n",
            "فراتن المطبابق له بشكل كاآملَ شبه مستكليِل عبرجالكون7-ثم قرر الاخير العيش على الارض ..\n",
            "\n",
            "ظهن مخلوق عجيب يتغذى على العقوك في مناطق الاركت“ذون ان يدري احد به .. و ظن ان فراس هو\n",
            "ابن مجاكم ( باتريونا ) فراح يحاول إبنتهدافه:-: و.بعث ضراع مرير اكتسب فراس:مناعة ضده و“نجح في\n",
            "التخلص من سيطرته و هزمه:*فقرر الانتقآم من\"الاض بغزوها و تدمير حضلارتها الوليدة و بنى خطته\n",
            "المعقدة بحيث يرب الارض على مركلتينو-يستولي” على املاكها و يحولها الى مزرعة يتغذى على\n",
            "عقول اهلها .\n",
            "\f\n"
          ]
        }
      ]
    },
    {
      "cell_type": "code",
      "source": [],
      "metadata": {
        "id": "nPhET26Gw1BP"
      },
      "execution_count": null,
      "outputs": []
    }
  ]
}